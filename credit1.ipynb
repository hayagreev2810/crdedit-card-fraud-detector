{
  "cells": [
    {
      "cell_type": "code",
      "execution_count": null,
      "metadata": {
        "colab": {
          "base_uri": "https://localhost:8080/"
        },
        "id": "cWQSo36ViaP5",
        "outputId": "594dc8f9-2c3b-4b28-c22c-77f61e747fd6"
      },
      "outputs": [],
      "source": []
    },
    {
      "cell_type": "code",
      "execution_count": 54,
      "metadata": {
        "_cell_guid": "b1076dfc-b9ad-4769-8c92-a6c4dae69d19",
        "_uuid": "8f2839f25d086af736a60e9eeb907d3b93b6e0e5",
        "colab": {
          "base_uri": "https://localhost:8080/"
        },
        "execution": {
          "iopub.execute_input": "2025-07-28T13:35:06.877418Z",
          "iopub.status.busy": "2025-07-28T13:35:06.877128Z",
          "iopub.status.idle": "2025-07-28T13:35:09.073877Z",
          "shell.execute_reply": "2025-07-28T13:35:09.072917Z",
          "shell.execute_reply.started": "2025-07-28T13:35:06.877389Z"
        },
        "id": "kxafERBWiaP8",
        "outputId": "43a6ec0b-49a6-448b-9ade-3ebac64f3ecc",
        "trusted": true
      },
      "outputs": [],
      "source": [
        "import numpy as np\n",
        "import pandas as pd\n",
        "import matplotlib.pyplot as plt\n",
        "import seaborn as sns\n"
      ]
    },
    {
      "cell_type": "code",
      "execution_count": 55,
      "metadata": {
        "colab": {
          "base_uri": "https://localhost:8080/",
          "height": 550
        },
        "execution": {
          "iopub.execute_input": "2025-07-28T13:35:26.946961Z",
          "iopub.status.busy": "2025-07-28T13:35:26.946633Z",
          "iopub.status.idle": "2025-07-28T13:35:36.022284Z",
          "shell.execute_reply": "2025-07-28T13:35:36.021287Z",
          "shell.execute_reply.started": "2025-07-28T13:35:26.946936Z"
        },
        "id": "7atuqvfxiaP9",
        "outputId": "e3c2cb1e-27eb-419d-f7d7-65f2cfd9212c",
        "trusted": true
      },
      "outputs": [
        {
          "data": {
            "text/html": [
              "<div>\n",
              "<style scoped>\n",
              "    .dataframe tbody tr th:only-of-type {\n",
              "        vertical-align: middle;\n",
              "    }\n",
              "\n",
              "    .dataframe tbody tr th {\n",
              "        vertical-align: top;\n",
              "    }\n",
              "\n",
              "    .dataframe thead th {\n",
              "        text-align: right;\n",
              "    }\n",
              "</style>\n",
              "<table border=\"1\" class=\"dataframe\">\n",
              "  <thead>\n",
              "    <tr style=\"text-align: right;\">\n",
              "      <th></th>\n",
              "      <th>Unnamed: 0</th>\n",
              "      <th>trans_date_trans_time</th>\n",
              "      <th>cc_num</th>\n",
              "      <th>merchant</th>\n",
              "      <th>category</th>\n",
              "      <th>amt</th>\n",
              "      <th>first</th>\n",
              "      <th>last</th>\n",
              "      <th>gender</th>\n",
              "      <th>street</th>\n",
              "      <th>...</th>\n",
              "      <th>lat</th>\n",
              "      <th>long</th>\n",
              "      <th>city_pop</th>\n",
              "      <th>job</th>\n",
              "      <th>dob</th>\n",
              "      <th>trans_num</th>\n",
              "      <th>unix_time</th>\n",
              "      <th>merch_lat</th>\n",
              "      <th>merch_long</th>\n",
              "      <th>is_fraud</th>\n",
              "    </tr>\n",
              "  </thead>\n",
              "  <tbody>\n",
              "    <tr>\n",
              "      <th>0</th>\n",
              "      <td>0</td>\n",
              "      <td>2019-01-01 00:00:18</td>\n",
              "      <td>2703186189652095</td>\n",
              "      <td>fraud_Rippin, Kub and Mann</td>\n",
              "      <td>misc_net</td>\n",
              "      <td>4.97</td>\n",
              "      <td>Jennifer</td>\n",
              "      <td>Banks</td>\n",
              "      <td>F</td>\n",
              "      <td>561 Perry Cove</td>\n",
              "      <td>...</td>\n",
              "      <td>36.0788</td>\n",
              "      <td>-81.1781</td>\n",
              "      <td>3495</td>\n",
              "      <td>Psychologist, counselling</td>\n",
              "      <td>1988-03-09</td>\n",
              "      <td>0b242abb623afc578575680df30655b9</td>\n",
              "      <td>1325376018</td>\n",
              "      <td>36.011293</td>\n",
              "      <td>-82.048315</td>\n",
              "      <td>0</td>\n",
              "    </tr>\n",
              "    <tr>\n",
              "      <th>1</th>\n",
              "      <td>1</td>\n",
              "      <td>2019-01-01 00:00:44</td>\n",
              "      <td>630423337322</td>\n",
              "      <td>fraud_Heller, Gutmann and Zieme</td>\n",
              "      <td>grocery_pos</td>\n",
              "      <td>107.23</td>\n",
              "      <td>Stephanie</td>\n",
              "      <td>Gill</td>\n",
              "      <td>F</td>\n",
              "      <td>43039 Riley Greens Suite 393</td>\n",
              "      <td>...</td>\n",
              "      <td>48.8878</td>\n",
              "      <td>-118.2105</td>\n",
              "      <td>149</td>\n",
              "      <td>Special educational needs teacher</td>\n",
              "      <td>1978-06-21</td>\n",
              "      <td>1f76529f8574734946361c461b024d99</td>\n",
              "      <td>1325376044</td>\n",
              "      <td>49.159047</td>\n",
              "      <td>-118.186462</td>\n",
              "      <td>0</td>\n",
              "    </tr>\n",
              "    <tr>\n",
              "      <th>2</th>\n",
              "      <td>2</td>\n",
              "      <td>2019-01-01 00:00:51</td>\n",
              "      <td>38859492057661</td>\n",
              "      <td>fraud_Lind-Buckridge</td>\n",
              "      <td>entertainment</td>\n",
              "      <td>220.11</td>\n",
              "      <td>Edward</td>\n",
              "      <td>Sanchez</td>\n",
              "      <td>M</td>\n",
              "      <td>594 White Dale Suite 530</td>\n",
              "      <td>...</td>\n",
              "      <td>42.1808</td>\n",
              "      <td>-112.2620</td>\n",
              "      <td>4154</td>\n",
              "      <td>Nature conservation officer</td>\n",
              "      <td>1962-01-19</td>\n",
              "      <td>a1a22d70485983eac12b5b88dad1cf95</td>\n",
              "      <td>1325376051</td>\n",
              "      <td>43.150704</td>\n",
              "      <td>-112.154481</td>\n",
              "      <td>0</td>\n",
              "    </tr>\n",
              "    <tr>\n",
              "      <th>3</th>\n",
              "      <td>3</td>\n",
              "      <td>2019-01-01 00:01:16</td>\n",
              "      <td>3534093764340240</td>\n",
              "      <td>fraud_Kutch, Hermiston and Farrell</td>\n",
              "      <td>gas_transport</td>\n",
              "      <td>45.00</td>\n",
              "      <td>Jeremy</td>\n",
              "      <td>White</td>\n",
              "      <td>M</td>\n",
              "      <td>9443 Cynthia Court Apt. 038</td>\n",
              "      <td>...</td>\n",
              "      <td>46.2306</td>\n",
              "      <td>-112.1138</td>\n",
              "      <td>1939</td>\n",
              "      <td>Patent attorney</td>\n",
              "      <td>1967-01-12</td>\n",
              "      <td>6b849c168bdad6f867558c3793159a81</td>\n",
              "      <td>1325376076</td>\n",
              "      <td>47.034331</td>\n",
              "      <td>-112.561071</td>\n",
              "      <td>0</td>\n",
              "    </tr>\n",
              "    <tr>\n",
              "      <th>4</th>\n",
              "      <td>4</td>\n",
              "      <td>2019-01-01 00:03:06</td>\n",
              "      <td>375534208663984</td>\n",
              "      <td>fraud_Keeling-Crist</td>\n",
              "      <td>misc_pos</td>\n",
              "      <td>41.96</td>\n",
              "      <td>Tyler</td>\n",
              "      <td>Garcia</td>\n",
              "      <td>M</td>\n",
              "      <td>408 Bradley Rest</td>\n",
              "      <td>...</td>\n",
              "      <td>38.4207</td>\n",
              "      <td>-79.4629</td>\n",
              "      <td>99</td>\n",
              "      <td>Dance movement psychotherapist</td>\n",
              "      <td>1986-03-28</td>\n",
              "      <td>a41d7549acf90789359a9aa5346dcb46</td>\n",
              "      <td>1325376186</td>\n",
              "      <td>38.674999</td>\n",
              "      <td>-78.632459</td>\n",
              "      <td>0</td>\n",
              "    </tr>\n",
              "  </tbody>\n",
              "</table>\n",
              "<p>5 rows × 23 columns</p>\n",
              "</div>"
            ],
            "text/plain": [
              "   Unnamed: 0 trans_date_trans_time            cc_num  \\\n",
              "0           0   2019-01-01 00:00:18  2703186189652095   \n",
              "1           1   2019-01-01 00:00:44      630423337322   \n",
              "2           2   2019-01-01 00:00:51    38859492057661   \n",
              "3           3   2019-01-01 00:01:16  3534093764340240   \n",
              "4           4   2019-01-01 00:03:06   375534208663984   \n",
              "\n",
              "                             merchant       category     amt      first  \\\n",
              "0          fraud_Rippin, Kub and Mann       misc_net    4.97   Jennifer   \n",
              "1     fraud_Heller, Gutmann and Zieme    grocery_pos  107.23  Stephanie   \n",
              "2                fraud_Lind-Buckridge  entertainment  220.11     Edward   \n",
              "3  fraud_Kutch, Hermiston and Farrell  gas_transport   45.00     Jeremy   \n",
              "4                 fraud_Keeling-Crist       misc_pos   41.96      Tyler   \n",
              "\n",
              "      last gender                        street  ...      lat      long  \\\n",
              "0    Banks      F                561 Perry Cove  ...  36.0788  -81.1781   \n",
              "1     Gill      F  43039 Riley Greens Suite 393  ...  48.8878 -118.2105   \n",
              "2  Sanchez      M      594 White Dale Suite 530  ...  42.1808 -112.2620   \n",
              "3    White      M   9443 Cynthia Court Apt. 038  ...  46.2306 -112.1138   \n",
              "4   Garcia      M              408 Bradley Rest  ...  38.4207  -79.4629   \n",
              "\n",
              "   city_pop                                job         dob  \\\n",
              "0      3495          Psychologist, counselling  1988-03-09   \n",
              "1       149  Special educational needs teacher  1978-06-21   \n",
              "2      4154        Nature conservation officer  1962-01-19   \n",
              "3      1939                    Patent attorney  1967-01-12   \n",
              "4        99     Dance movement psychotherapist  1986-03-28   \n",
              "\n",
              "                          trans_num   unix_time  merch_lat  merch_long  \\\n",
              "0  0b242abb623afc578575680df30655b9  1325376018  36.011293  -82.048315   \n",
              "1  1f76529f8574734946361c461b024d99  1325376044  49.159047 -118.186462   \n",
              "2  a1a22d70485983eac12b5b88dad1cf95  1325376051  43.150704 -112.154481   \n",
              "3  6b849c168bdad6f867558c3793159a81  1325376076  47.034331 -112.561071   \n",
              "4  a41d7549acf90789359a9aa5346dcb46  1325376186  38.674999  -78.632459   \n",
              "\n",
              "   is_fraud  \n",
              "0         0  \n",
              "1         0  \n",
              "2         0  \n",
              "3         0  \n",
              "4         0  \n",
              "\n",
              "[5 rows x 23 columns]"
            ]
          },
          "execution_count": 55,
          "metadata": {},
          "output_type": "execute_result"
        }
      ],
      "source": [
        "data = pd.read_csv(\"fraudTrain.csv\")\n",
        "data.head()"
      ]
    },
    {
      "cell_type": "code",
      "execution_count": 56,
      "metadata": {
        "colab": {
          "base_uri": "https://localhost:8080/"
        },
        "execution": {
          "iopub.execute_input": "2025-07-28T13:35:36.023984Z",
          "iopub.status.busy": "2025-07-28T13:35:36.023624Z",
          "iopub.status.idle": "2025-07-28T13:35:36.846914Z",
          "shell.execute_reply": "2025-07-28T13:35:36.845918Z",
          "shell.execute_reply.started": "2025-07-28T13:35:36.023935Z"
        },
        "id": "-Eoz7CiMiaP9",
        "outputId": "e12b6602-f94e-4714-da2b-bfdcdbcdf3a6",
        "trusted": true
      },
      "outputs": [
        {
          "name": "stdout",
          "output_type": "stream",
          "text": [
            "<class 'pandas.core.frame.DataFrame'>\n",
            "RangeIndex: 1296675 entries, 0 to 1296674\n",
            "Data columns (total 23 columns):\n",
            " #   Column                 Non-Null Count    Dtype  \n",
            "---  ------                 --------------    -----  \n",
            " 0   Unnamed: 0             1296675 non-null  int64  \n",
            " 1   trans_date_trans_time  1296675 non-null  object \n",
            " 2   cc_num                 1296675 non-null  int64  \n",
            " 3   merchant               1296675 non-null  object \n",
            " 4   category               1296675 non-null  object \n",
            " 5   amt                    1296675 non-null  float64\n",
            " 6   first                  1296675 non-null  object \n",
            " 7   last                   1296675 non-null  object \n",
            " 8   gender                 1296675 non-null  object \n",
            " 9   street                 1296675 non-null  object \n",
            " 10  city                   1296675 non-null  object \n",
            " 11  state                  1296675 non-null  object \n",
            " 12  zip                    1296675 non-null  int64  \n",
            " 13  lat                    1296675 non-null  float64\n",
            " 14  long                   1296675 non-null  float64\n",
            " 15  city_pop               1296675 non-null  int64  \n",
            " 16  job                    1296675 non-null  object \n",
            " 17  dob                    1296675 non-null  object \n",
            " 18  trans_num              1296675 non-null  object \n",
            " 19  unix_time              1296675 non-null  int64  \n",
            " 20  merch_lat              1296675 non-null  float64\n",
            " 21  merch_long             1296675 non-null  float64\n",
            " 22  is_fraud               1296675 non-null  int64  \n",
            "dtypes: float64(5), int64(6), object(12)\n",
            "memory usage: 227.5+ MB\n"
          ]
        }
      ],
      "source": [
        "data.info()"
      ]
    },
    {
      "cell_type": "code",
      "execution_count": 57,
      "metadata": {
        "execution": {
          "iopub.execute_input": "2025-07-28T13:35:43.071553Z",
          "iopub.status.busy": "2025-07-28T13:35:43.071256Z",
          "iopub.status.idle": "2025-07-28T13:35:43.75565Z",
          "shell.execute_reply": "2025-07-28T13:35:43.754971Z",
          "shell.execute_reply.started": "2025-07-28T13:35:43.071527Z"
        },
        "id": "RyCgiRQdiaP-",
        "trusted": true
      },
      "outputs": [],
      "source": [
        "# extract age of customer\n",
        "data['dob'] = pd.to_datetime(data['dob'])\n",
        "data['age'] = (pd.to_datetime(data['trans_date_trans_time']).dt.year - data['dob'].dt.year)"
      ]
    },
    {
      "cell_type": "code",
      "execution_count": 58,
      "metadata": {
        "execution": {
          "iopub.execute_input": "2025-07-28T13:35:46.56398Z",
          "iopub.status.busy": "2025-07-28T13:35:46.563285Z",
          "iopub.status.idle": "2025-07-28T13:35:46.829728Z",
          "shell.execute_reply": "2025-07-28T13:35:46.828861Z",
          "shell.execute_reply.started": "2025-07-28T13:35:46.563943Z"
        },
        "id": "KKVpUsLeiaP_",
        "trusted": true
      },
      "outputs": [],
      "source": [
        "# categorise ages\n",
        "def age_group(age):\n",
        "    if age < 18:\n",
        "        return 'Teen'\n",
        "    elif age < 25:\n",
        "        return 'Young Adult'\n",
        "    elif age < 35:\n",
        "        return 'Adult'\n",
        "    elif age < 50:\n",
        "        return 'Middle-aged'\n",
        "    elif age < 65:\n",
        "        return 'Senior'\n",
        "    else:\n",
        "        return 'Elderly'\n",
        "\n",
        "data['age_group'] = data['age'].apply(age_group)"
      ]
    },
    {
      "cell_type": "code",
      "execution_count": 59,
      "metadata": {
        "execution": {
          "iopub.execute_input": "2025-07-28T13:35:48.120295Z",
          "iopub.status.busy": "2025-07-28T13:35:48.119997Z",
          "iopub.status.idle": "2025-07-28T13:35:48.602219Z",
          "shell.execute_reply": "2025-07-28T13:35:48.601275Z",
          "shell.execute_reply.started": "2025-07-28T13:35:48.120272Z"
        },
        "id": "webej1QRiaP_",
        "trusted": true
      },
      "outputs": [],
      "source": [
        "data['trans_date_trans_time'] = pd.to_datetime(data['trans_date_trans_time'])\n",
        "data['day'] = data['trans_date_trans_time'].dt.day\n",
        "data['month'] = data['trans_date_trans_time'].dt.month\n",
        "data['year'] = data['trans_date_trans_time'].dt.year\n",
        "data['hour'] = data['trans_date_trans_time'].dt.hour\n",
        "data['minute'] = data['trans_date_trans_time'].dt.minute"
      ]
    },
    {
      "cell_type": "code",
      "execution_count": 60,
      "metadata": {
        "execution": {
          "iopub.execute_input": "2025-07-28T13:35:53.202263Z",
          "iopub.status.busy": "2025-07-28T13:35:53.201924Z",
          "iopub.status.idle": "2025-07-28T13:35:53.323671Z",
          "shell.execute_reply": "2025-07-28T13:35:53.322881Z",
          "shell.execute_reply.started": "2025-07-28T13:35:53.202232Z"
        },
        "id": "MOiQJ3lziaP_",
        "trusted": true
      },
      "outputs": [],
      "source": [
        "# extrcat distance\n",
        "\n",
        "# Define haversine function\n",
        "def haversine(lat1, lon1, lat2, lon2):\n",
        "    R = 6371  # Earth radius in kilometers\n",
        "    lat1, lon1, lat2, lon2 = map(np.radians, [lat1, lon1, lat2, lon2])  # Convert to radians\n",
        "\n",
        "    dlat = lat2 - lat1\n",
        "    dlon = lon2 - lon1\n",
        "\n",
        "    a = np.sin(dlat/2)**2 + np.cos(lat1) * np.cos(lat2) * np.sin(dlon/2)**2\n",
        "    c = 2 * np.arcsin(np.sqrt(a))\n",
        "\n",
        "    return R * c  # Distance in km\n",
        "\n",
        "# Apply to dataframe\n",
        "data['distance_km'] = haversine(data['lat'], data['long'], data['merch_lat'], data['merch_long'])\n"
      ]
    },
    {
      "cell_type": "code",
      "execution_count": 61,
      "metadata": {
        "colab": {
          "base_uri": "https://localhost:8080/"
        },
        "execution": {
          "iopub.execute_input": "2025-07-28T13:35:59.075765Z",
          "iopub.status.busy": "2025-07-28T13:35:59.075462Z",
          "iopub.status.idle": "2025-07-28T13:35:59.0827Z",
          "shell.execute_reply": "2025-07-28T13:35:59.081975Z",
          "shell.execute_reply.started": "2025-07-28T13:35:59.075741Z"
        },
        "id": "SqKZShOPiaQA",
        "outputId": "f275b8a5-af2d-4085-f8f2-69abb73386c3",
        "trusted": true
      },
      "outputs": [
        {
          "data": {
            "text/plain": [
              "np.float64(152.11717310595034)"
            ]
          },
          "execution_count": 61,
          "metadata": {},
          "output_type": "execute_result"
        }
      ],
      "source": [
        "data['distance_km'].max()"
      ]
    },
    {
      "cell_type": "code",
      "execution_count": 62,
      "metadata": {
        "colab": {
          "base_uri": "https://localhost:8080/"
        },
        "execution": {
          "iopub.execute_input": "2025-07-28T13:35:59.084304Z",
          "iopub.status.busy": "2025-07-28T13:35:59.084Z",
          "iopub.status.idle": "2025-07-28T13:35:59.10283Z",
          "shell.execute_reply": "2025-07-28T13:35:59.102028Z",
          "shell.execute_reply.started": "2025-07-28T13:35:59.084276Z"
        },
        "id": "-eHStZumiaQA",
        "outputId": "765019ab-3fda-4b9f-bb40-fdf0bad9375b",
        "trusted": true
      },
      "outputs": [
        {
          "data": {
            "text/plain": [
              "np.float64(0.022254515638533652)"
            ]
          },
          "execution_count": 62,
          "metadata": {},
          "output_type": "execute_result"
        }
      ],
      "source": [
        "data['distance_km'].min()"
      ]
    },
    {
      "cell_type": "code",
      "execution_count": 63,
      "metadata": {
        "execution": {
          "iopub.execute_input": "2025-07-28T13:36:01.317736Z",
          "iopub.status.busy": "2025-07-28T13:36:01.31745Z",
          "iopub.status.idle": "2025-07-28T13:36:01.756827Z",
          "shell.execute_reply": "2025-07-28T13:36:01.75601Z",
          "shell.execute_reply.started": "2025-07-28T13:36:01.317714Z"
        },
        "id": "wwMGTGeziaQB",
        "trusted": true
      },
      "outputs": [],
      "source": [
        "# categorise distances for better predictions\n",
        "def distance_category(dist):\n",
        "    if dist < 0.5:\n",
        "        return 'Very Near'         # < 500 meters\n",
        "    elif dist < 3:\n",
        "        return 'Near'              # 0.5 – 3 km\n",
        "    elif dist < 15:\n",
        "        return 'Moderate'          # 3 – 15 km\n",
        "    elif dist < 50:\n",
        "        return 'Far'               # 15 – 50 km\n",
        "    else:\n",
        "        return 'Very Far'          # 50 – 152+ km\n",
        "\n",
        "data['distance_group'] = data['distance_km'].apply(distance_category)\n"
      ]
    },
    {
      "cell_type": "code",
      "execution_count": 64,
      "metadata": {
        "execution": {
          "iopub.execute_input": "2025-07-28T13:36:04.289075Z",
          "iopub.status.busy": "2025-07-28T13:36:04.288755Z",
          "iopub.status.idle": "2025-07-28T13:36:04.395062Z",
          "shell.execute_reply": "2025-07-28T13:36:04.394013Z",
          "shell.execute_reply.started": "2025-07-28T13:36:04.289053Z"
        },
        "id": "_V4tcNieiaQC",
        "trusted": true
      },
      "outputs": [],
      "source": [
        "# dropping irrelevant columns\n",
        "cols_to_drop = [\n",
        "    'Unnamed: 0', 'first', 'last', 'street', 'city', 'state', 'zip',\n",
        "    'dob', 'cc_num', 'trans_num', 'unix_time',\n",
        "    'lat', 'long', 'merch_lat', 'merch_long', 'trans_date_trans_time',\n",
        "]\n",
        "\n",
        "data.drop(columns=cols_to_drop, inplace=True)"
      ]
    },
    {
      "cell_type": "code",
      "execution_count": 65,
      "metadata": {
        "colab": {
          "base_uri": "https://localhost:8080/"
        },
        "execution": {
          "iopub.execute_input": "2025-07-28T13:36:05.747264Z",
          "iopub.status.busy": "2025-07-28T13:36:05.746986Z",
          "iopub.status.idle": "2025-07-28T13:36:05.753075Z",
          "shell.execute_reply": "2025-07-28T13:36:05.752226Z",
          "shell.execute_reply.started": "2025-07-28T13:36:05.747243Z"
        },
        "id": "FC5ooGqMiaQC",
        "outputId": "5951f410-478e-4830-fd6f-643535985aa9",
        "trusted": true
      },
      "outputs": [
        {
          "data": {
            "text/plain": [
              "Index(['merchant', 'category', 'amt', 'gender', 'city_pop', 'job', 'is_fraud',\n",
              "       'age', 'age_group', 'day', 'month', 'year', 'hour', 'minute',\n",
              "       'distance_km', 'distance_group'],\n",
              "      dtype='object')"
            ]
          },
          "execution_count": 65,
          "metadata": {},
          "output_type": "execute_result"
        }
      ],
      "source": [
        "data.columns"
      ]
    },
    {
      "cell_type": "code",
      "execution_count": 66,
      "metadata": {
        "colab": {
          "base_uri": "https://localhost:8080/"
        },
        "execution": {
          "iopub.execute_input": "2025-07-28T13:36:07.114402Z",
          "iopub.status.busy": "2025-07-28T13:36:07.114091Z",
          "iopub.status.idle": "2025-07-28T13:36:07.187928Z",
          "shell.execute_reply": "2025-07-28T13:36:07.187239Z",
          "shell.execute_reply.started": "2025-07-28T13:36:07.114379Z"
        },
        "id": "O9-YSSNriaQD",
        "outputId": "1c7f30dc-e8d2-4481-df46-12c22dadf6f3",
        "trusted": true
      },
      "outputs": [
        {
          "data": {
            "text/plain": [
              "6483"
            ]
          },
          "execution_count": 66,
          "metadata": {},
          "output_type": "execute_result"
        }
      ],
      "source": [
        "# getting sample data\n",
        "sample_data = data.sample(frac=0.005, random_state=42)\n",
        "len(sample_data)"
      ]
    },
    {
      "cell_type": "code",
      "execution_count": 67,
      "metadata": {
        "execution": {
          "iopub.execute_input": "2025-07-28T13:36:35.430575Z",
          "iopub.status.busy": "2025-07-28T13:36:35.430289Z",
          "iopub.status.idle": "2025-07-28T13:36:35.437718Z",
          "shell.execute_reply": "2025-07-28T13:36:35.436872Z",
          "shell.execute_reply.started": "2025-07-28T13:36:35.430553Z"
        },
        "id": "4BDMqFzniaQD",
        "trusted": true
      },
      "outputs": [],
      "source": [
        "# extracting X and y from sample data\n",
        "X = sample_data.drop(columns=['is_fraud'])\n",
        "y = sample_data['is_fraud']"
      ]
    },
    {
      "cell_type": "code",
      "execution_count": 68,
      "metadata": {
        "colab": {
          "base_uri": "https://localhost:8080/"
        },
        "execution": {
          "iopub.execute_input": "2025-07-28T13:36:38.771423Z",
          "iopub.status.busy": "2025-07-28T13:36:38.771139Z",
          "iopub.status.idle": "2025-07-28T13:36:39.503895Z",
          "shell.execute_reply": "2025-07-28T13:36:39.502928Z",
          "shell.execute_reply.started": "2025-07-28T13:36:38.771401Z"
        },
        "id": "ie9TYKs1iaQD",
        "outputId": "cc81fdb5-75b1-473e-a83f-d26cb505d97f",
        "trusted": true
      },
      "outputs": [
        {
          "name": "stdout",
          "output_type": "stream",
          "text": [
            "X_train shape: (5510, 15)\n",
            "y_train shape: (5510,)\n",
            "\n",
            "X_test shape: (973, 15)\n",
            "y_test shape: (973,)\n"
          ]
        }
      ],
      "source": [
        "from sklearn.model_selection import train_test_split\n",
        "\n",
        "# Split while preserving class distribution\n",
        "X_train, X_test, y_train, y_test = train_test_split(\n",
        "    X, y,\n",
        "    test_size=0.15,\n",
        "    random_state=42,\n",
        "    stratify=y   # ✅ ensures class balance in both splits\n",
        ")\n",
        "\n",
        "print(f\"X_train shape: {X_train.shape}\")\n",
        "print(f\"y_train shape: {y_train.shape}\")\n",
        "print()\n",
        "print(f\"X_test shape: {X_test.shape}\")\n",
        "print(f\"y_test shape: {y_test.shape}\")\n"
      ]
    },
    {
      "cell_type": "code",
      "execution_count": 69,
      "metadata": {
        "colab": {
          "base_uri": "https://localhost:8080/"
        },
        "execution": {
          "iopub.execute_input": "2025-07-28T13:36:43.761253Z",
          "iopub.status.busy": "2025-07-28T13:36:43.760631Z",
          "iopub.status.idle": "2025-07-28T13:36:43.770982Z",
          "shell.execute_reply": "2025-07-28T13:36:43.769819Z",
          "shell.execute_reply.started": "2025-07-28T13:36:43.761222Z"
        },
        "id": "qqVmXYXEiaQE",
        "outputId": "53150d5a-1f34-4c6f-c0df-1653e3164926",
        "trusted": true
      },
      "outputs": [
        {
          "name": "stdout",
          "output_type": "stream",
          "text": [
            "Index(['merchant', 'category', 'amt', 'gender', 'city_pop', 'job', 'age',\n",
            "       'age_group', 'day', 'month', 'year', 'hour', 'minute', 'distance_km',\n",
            "       'distance_group'],\n",
            "      dtype='object')\n",
            "\n",
            "Index(['merchant', 'category', 'gender', 'job', 'age_group', 'distance_group'], dtype='object')\n"
          ]
        }
      ],
      "source": [
        "cols = X_train.columns\n",
        "print(cols)\n",
        "print()\n",
        "cat_cols = X_train.select_dtypes(include=\"object\").columns\n",
        "print(cat_cols)"
      ]
    },
    {
      "cell_type": "code",
      "execution_count": 70,
      "metadata": {},
      "outputs": [
        {
          "data": {
            "text/plain": [
              "Index(['merchant', 'category', 'amt', 'gender', 'city_pop', 'job', 'is_fraud',\n",
              "       'age', 'age_group', 'day', 'month', 'year', 'hour', 'minute',\n",
              "       'distance_km', 'distance_group'],\n",
              "      dtype='object')"
            ]
          },
          "execution_count": 70,
          "metadata": {},
          "output_type": "execute_result"
        }
      ],
      "source": [
        "data.columns"
      ]
    },
    {
      "cell_type": "code",
      "execution_count": 71,
      "metadata": {},
      "outputs": [
        {
          "data": {
            "image/png": "[encoded data removed]",
            "text/plain": [
              "<Figure size 640x480 with 1 Axes>"
            ]
          },
          "metadata": {},
          "output_type": "display_data"
        },
        {
          "data": {
            "image/png": "[encoded data removed]",
            "text/plain": [
              "<Figure size 640x480 with 1 Axes>"
            ]
          },
          "metadata": {},
          "output_type": "display_data"
        }
      ],
      "source": [
        "import pandas as pd\n",
        "import matplotlib.pyplot as plt\n",
        "\n",
        "\n",
        "\n",
        "# ---- Plot 1: Class distribution ----\n",
        "fraud_counts = data['is_fraud'].value_counts()\n",
        "plt.figure()\n",
        "plt.bar(fraud_counts.index, fraud_counts.values)\n",
        "plt.title('Fraud vs Genuine Transactions')\n",
        "plt.xlabel('is_fraud (0 = Genuine, 1 = Fraud)')\n",
        "plt.ylabel('Count')\n",
        "plt.show()\n",
        "\n",
        "\n",
        "\n",
        "\n",
        "\n",
        "fraud_by_hour = data[data['is_fraud']==1]['hour'].value_counts().sort_index()\n",
        "plt.figure()\n",
        "plt.bar(fraud_by_hour.index, fraud_by_hour.values)\n",
        "plt.title('Fraudulent Transactions by Hour of Day')\n",
        "plt.xlabel('Hour of Day')\n",
        "plt.ylabel('Fraud Count')\n",
        "plt.show()\n"
      ]
    },
    {
      "cell_type": "code",
      "execution_count": 72,
      "metadata": {
        "execution": {
          "iopub.execute_input": "2025-07-28T13:37:23.567894Z",
          "iopub.status.busy": "2025-07-28T13:37:23.567544Z",
          "iopub.status.idle": "2025-07-28T13:37:23.603067Z",
          "shell.execute_reply": "2025-07-28T13:37:23.602187Z",
          "shell.execute_reply.started": "2025-07-28T13:37:23.56787Z"
        },
        "id": "A-HZShB4iaQE",
        "trusted": true
      },
      "outputs": [],
      "source": [
        "# OrdinalEncoder can tranform all cols at once, instead of one-by-one in LabelEncoding\n",
        "from sklearn.preprocessing import OrdinalEncoder\n",
        "\n",
        "# Select categorical columns\n",
        "cat_cols = sample_data.select_dtypes(include=\"object\").columns.tolist()\n",
        "\n",
        "# Initialize encoder with unknown handling\n",
        "encoder = OrdinalEncoder(handle_unknown='use_encoded_value', unknown_value=-1)\n",
        "\n",
        "# Fit on training data and transform both train and test\n",
        "X_train[cat_cols] = encoder.fit_transform(X_train[cat_cols])\n",
        "X_test[cat_cols] = encoder.transform(X_test[cat_cols])"
      ]
    },
    {
      "cell_type": "code",
      "execution_count": 73,
      "metadata": {
        "colab": {
          "base_uri": "https://localhost:8080/"
        },
        "execution": {
          "iopub.execute_input": "2025-07-28T13:37:23.985591Z",
          "iopub.status.busy": "2025-07-28T13:37:23.985286Z",
          "iopub.status.idle": "2025-07-28T13:37:23.998217Z",
          "shell.execute_reply": "2025-07-28T13:37:23.99736Z",
          "shell.execute_reply.started": "2025-07-28T13:37:23.98555Z"
        },
        "id": "EUgva-JIiaQE",
        "outputId": "d6401cdc-d4d1-4134-bdd4-63d0ad812776",
        "trusted": true
      },
      "outputs": [
        {
          "name": "stdout",
          "output_type": "stream",
          "text": [
            "<class 'pandas.core.frame.DataFrame'>\n",
            "Index: 5510 entries, 458043 to 789415\n",
            "Data columns (total 15 columns):\n",
            " #   Column          Non-Null Count  Dtype  \n",
            "---  ------          --------------  -----  \n",
            " 0   merchant        5510 non-null   float64\n",
            " 1   category        5510 non-null   float64\n",
            " 2   amt             5510 non-null   float64\n",
            " 3   gender          5510 non-null   float64\n",
            " 4   city_pop        5510 non-null   int64  \n",
            " 5   job             5510 non-null   float64\n",
            " 6   age             5510 non-null   int32  \n",
            " 7   age_group       5510 non-null   float64\n",
            " 8   day             5510 non-null   int32  \n",
            " 9   month           5510 non-null   int32  \n",
            " 10  year            5510 non-null   int32  \n",
            " 11  hour            5510 non-null   int32  \n",
            " 12  minute          5510 non-null   int32  \n",
            " 13  distance_km     5510 non-null   float64\n",
            " 14  distance_group  5510 non-null   float64\n",
            "dtypes: float64(8), int32(6), int64(1)\n",
            "memory usage: 559.6 KB\n"
          ]
        }
      ],
      "source": [
        "# that's why i extracted cat_cols above, to scale the numeric cols only\n",
        "X_train.info()"
      ]
    },
    {
      "cell_type": "code",
      "execution_count": 74,
      "metadata": {
        "colab": {
          "base_uri": "https://localhost:8080/"
        },
        "execution": {
          "iopub.execute_input": "2025-07-28T13:37:28.054005Z",
          "iopub.status.busy": "2025-07-28T13:37:28.05361Z",
          "iopub.status.idle": "2025-07-28T13:37:28.10836Z",
          "shell.execute_reply": "2025-07-28T13:37:28.107456Z",
          "shell.execute_reply.started": "2025-07-28T13:37:28.05397Z"
        },
        "id": "82OTr8sYiaQE",
        "outputId": "10971a2e-6b31-416f-fd3b-3306f8314b2f",
        "trusted": true
      },
      "outputs": [
        {
          "name": "stdout",
          "output_type": "stream",
          "text": [
            "['amt', 'city_pop', 'age', 'day', 'month', 'year', 'hour', 'minute', 'distance_km']\n"
          ]
        }
      ],
      "source": [
        "# scaling the features\n",
        "from sklearn.preprocessing import StandardScaler\n",
        "\n",
        "scaler = StandardScaler()\n",
        " \n",
        "num_cols = [ col for col in cols if col not in cat_cols ]\n",
        "print(num_cols)\n",
        "\n",
        "X_train_scaled = X_train.copy()\n",
        "X_test_scaled = X_test.copy()\n",
        "\n",
        "\n",
        "X_train_scaled[num_cols] = scaler.fit_transform(X_train[num_cols])\n",
        "X_test_scaled[num_cols] = scaler.transform(X_test[num_cols])"
      ]
    },
    {
      "cell_type": "code",
      "execution_count": 75,
      "metadata": {
        "colab": {
          "base_uri": "https://localhost:8080/"
        },
        "execution": {
          "iopub.execute_input": "2025-07-28T13:37:31.736611Z",
          "iopub.status.busy": "2025-07-28T13:37:31.736304Z",
          "iopub.status.idle": "2025-07-28T13:37:31.742499Z",
          "shell.execute_reply": "2025-07-28T13:37:31.741745Z",
          "shell.execute_reply.started": "2025-07-28T13:37:31.736588Z"
        },
        "id": "zGdAXLdIiaQE",
        "outputId": "66460659-3b89-4c19-81de-699fb320a773",
        "trusted": true
      },
      "outputs": [
        {
          "data": {
            "text/plain": [
              "Index(['merchant', 'category', 'amt', 'gender', 'city_pop', 'job', 'age',\n",
              "       'age_group', 'day', 'month', 'year', 'hour', 'minute', 'distance_km',\n",
              "       'distance_group'],\n",
              "      dtype='object')"
            ]
          },
          "execution_count": 75,
          "metadata": {},
          "output_type": "execute_result"
        }
      ],
      "source": [
        "X_train_scaled.columns"
      ]
    },
    {
      "cell_type": "code",
      "execution_count": 76,
      "metadata": {
        "colab": {
          "base_uri": "https://localhost:8080/"
        },
        "execution": {
          "iopub.execute_input": "2025-07-28T13:37:31.996006Z",
          "iopub.status.busy": "2025-07-28T13:37:31.995663Z",
          "iopub.status.idle": "2025-07-28T13:37:32.000953Z",
          "shell.execute_reply": "2025-07-28T13:37:31.999974Z",
          "shell.execute_reply.started": "2025-07-28T13:37:31.995981Z"
        },
        "id": "89S4dgowiaQF",
        "outputId": "30e55d96-7509-45c4-c65a-8cdc1d6479d1",
        "trusted": true
      },
      "outputs": [
        {
          "name": "stdout",
          "output_type": "stream",
          "text": [
            "<class 'pandas.core.series.Series'>\n",
            "<class 'pandas.core.series.Series'>\n"
          ]
        }
      ],
      "source": [
        "print(type(y_test))\n",
        "print(type(y_train))"
      ]
    },
    {
      "cell_type": "code",
      "execution_count": 77,
      "metadata": {
        "colab": {
          "base_uri": "https://localhost:8080/",
          "height": 511
        },
        "execution": {
          "iopub.execute_input": "2025-07-28T13:38:01.176647Z",
          "iopub.status.busy": "2025-07-28T13:38:01.176346Z",
          "iopub.status.idle": "2025-07-28T13:38:05.660145Z",
          "shell.execute_reply": "2025-07-28T13:38:05.659261Z",
          "shell.execute_reply.started": "2025-07-28T13:38:01.176625Z"
        },
        "id": "IL3FQ7XEiaQF",
        "outputId": "2f7e2ef8-925b-488c-a365-c059c226d8d9",
        "trusted": true
      },
      "outputs": [
        {
          "name": "stdout",
          "output_type": "stream",
          "text": [
            "Accuracy        : 0.8869475847893115\n",
            "Precision       : 0.03571428571428571\n",
            "Recall          : 0.6666666666666666\n",
            "Confusion Matrix:\n",
            " [[859 108]\n",
            " [  2   4]]\n"
          ]
        },
        {
          "data": {
            "image/png": "[encoded data removed]",
            "text/plain": [
              "<Figure size 600x400 with 2 Axes>"
            ]
          },
          "metadata": {},
          "output_type": "display_data"
        }
      ],
      "source": [
        "# 1. LogisticRegression\n",
        "from sklearn.linear_model import LogisticRegression\n",
        "from sklearn.metrics import accuracy_score, precision_score, recall_score, confusion_matrix\n",
        "#import seaborn as sns\n",
        "\n",
        "# Model\n",
        "lr = LogisticRegression(solver='lbfgs', penalty=\"l2\", class_weight='balanced', random_state=42, max_iter=1000)\n",
        "lr.fit(X_train_scaled, y_train)\n",
        "\n",
        "# Predict\n",
        "y_pred = lr.predict(X_test_scaled)\n",
        "\n",
        "# Metrics\n",
        "print(\"Accuracy        :\", accuracy_score(y_test, y_pred))\n",
        "print(\"Precision       :\", precision_score(y_test, y_pred, zero_division=0))\n",
        "print(\"Recall          :\", recall_score(y_test, y_pred))\n",
        "\n",
        "# Confusion matrix\n",
        "conf_mt = confusion_matrix(y_test, y_pred)\n",
        "print(\"Confusion Matrix:\\n\", conf_mt)\n",
        "\n",
        "\n",
        "plt.figure(figsize=(6, 4))\n",
        "sns.heatmap(conf_mt, annot=True, fmt='d', cmap='Blues', xticklabels=[\"Not Fraud\", \"Fraud\"], yticklabels=[\"Not Fraud\", \"Fraud\"])\n",
        "plt.xlabel(\"Predicted\")\n",
        "plt.ylabel(\"Actual\")\n",
        "plt.title(\"Confusion Matrix - Logistic Regression\")\n",
        "plt.tight_layout()\n",
        "plt.show()\n"
      ]
    },
    {
      "cell_type": "code",
      "execution_count": 78,
      "metadata": {
        "colab": {
          "base_uri": "https://localhost:8080/"
        },
        "execution": {
          "iopub.execute_input": "2025-07-28T13:38:15.904947Z",
          "iopub.status.busy": "2025-07-28T13:38:15.904569Z",
          "iopub.status.idle": "2025-07-28T13:38:15.914458Z",
          "shell.execute_reply": "2025-07-28T13:38:15.913546Z",
          "shell.execute_reply.started": "2025-07-28T13:38:15.904923Z"
        },
        "id": "WYfN7-Y3iaQF",
        "outputId": "aaca6c54-7ba3-4323-c4d8-49626a4aa030",
        "trusted": true
      },
      "outputs": [
        {
          "name": "stdout",
          "output_type": "stream",
          "text": [
            "           Feature  Coefficient  Importance\n",
            "2              amt     1.661616    1.661616\n",
            "14  distance_group    -0.975533    0.975533\n",
            "3           gender     0.879944    0.879944\n",
            "9            month     0.775937    0.775937\n",
            "13     distance_km     0.677078    0.677078\n",
            "11            hour    -0.403820    0.403820\n",
            "4         city_pop     0.244850    0.244850\n",
            "10            year    -0.173969    0.173969\n",
            "1         category    -0.145665    0.145665\n",
            "6              age    -0.096381    0.096381\n"
          ]
        }
      ],
      "source": [
        "# getting feature relevancy using coeff\n",
        "feature_names = X_train.columns\n",
        "coefficients = lr.coef_[0]\n",
        "\n",
        "# Step 2: Create a DataFrame to sort by importance\n",
        "coef_df = pd.DataFrame({\n",
        "    'Feature': feature_names,\n",
        "    'Coefficient': coefficients,\n",
        "    'Importance': np.abs(coefficients)\n",
        "}).sort_values(by='Importance', ascending=False)\n",
        "\n",
        "# Step 3: View top N important features\n",
        "print(coef_df.head(10))"
      ]
    },
    {
      "cell_type": "code",
      "execution_count": null,
      "metadata": {
        "colab": {
          "base_uri": "https://localhost:8080/",
          "height": 511
        },
        "execution": {
          "iopub.execute_input": "2025-07-28T13:38:26.298693Z",
          "iopub.status.busy": "2025-07-28T13:38:26.298398Z",
          "iopub.status.idle": "2025-07-28T13:38:34.798592Z",
          "shell.execute_reply": "2025-07-28T13:38:34.797536Z",
          "shell.execute_reply.started": "2025-07-28T13:38:26.298671Z"
        },
        "id": "3uYqKD9ciaQG",
        "outputId": "8a73cfd5-9818-430a-fce6-f260967bcb57",
        "trusted": true
      },
      "outputs": [],
      "source": [
        "from sklearn.naive_bayes import GaussianNB\n",
        "from sklearn.model_selection import RandomizedSearchCV\n",
        "from sklearn.metrics import accuracy_score, precision_score, recall_score, confusion_matrix\n",
        "import numpy as np\n",
        "import matplotlib.pyplot as plt\n",
        "import seaborn as sns\n",
        "\n",
        "# 1. Define base model\n",
        "nb = GaussianNB()\n",
        "\n",
        "# 2. Define parameter grid manually (powers of 10 between 1e-12 and 1e-6)\n",
        "param_dist = {\n",
        "    'var_smoothing': np.logspace(-12, -6, 50)  # 50 values from 1e-12 to 1e-6\n",
        "}\n",
        "\n",
        "# 3. Randomized Search with CV\n",
        "rand_search = RandomizedSearchCV(\n",
        "    estimator=nb,\n",
        "    param_distributions=param_dist,\n",
        "    n_iter=20,              # try 20 random values\n",
        "    cv=5,                   # 5-fold cross-validation\n",
        "    scoring='accuracy',\n",
        "    random_state=42,\n",
        "    n_jobs=-1\n",
        ")\n",
        "\n",
        "# 4. Fit model on training data\n",
        "rand_search.fit(X_train_scaled, y_train)\n",
        "\n",
        "print(\"Best Parameters:\", rand_search.best_params_)\n",
        "print(\"Best CV Accuracy:\", rand_search.best_score_)\n",
        "\n",
        "# 5. Predict on test data\n",
        "y_pred = rand_search.predict(X_test_scaled)\n",
        "\n",
        "# 6. Evaluation Metrics\n",
        "acc = accuracy_score(y_test, y_pred)\n",
        "precision = precision_score(y_test, y_pred)\n",
        "recall = recall_score(y_test, y_pred)\n",
        "conf_mt = confusion_matrix(y_test, y_pred)\n",
        "\n",
        "print(\"Test Accuracy :\", acc)\n",
        "print(\"Precision     :\", precision)\n",
        "print(\"Recall        :\", recall)\n",
        "print(\"Confusion Matrix:\\n\", conf_mt)\n",
        "\n",
        "# 7. Confusion Matrix Heatmap\n",
        "plt.figure(figsize=(6, 4))\n",
        "sns.heatmap(conf_mt, annot=True, fmt='d', cmap='Greens',\n",
        "            xticklabels=[\"Not Fraud\", \"Fraud\"],\n",
        "            yticklabels=[\"Not Fraud\", \"Fraud\"])\n",
        "plt.xlabel(\"Predicted\")\n",
        "plt.ylabel(\"Actual\")\n",
        "plt.title(\"Confusion Matrix - Naive Bayes (Random Search)\")\n",
        "plt.tight_layout()\n",
        "plt.show()\n"
      ]
    },
    {
      "cell_type": "code",
      "execution_count": null,
      "metadata": {
        "colab": {
          "base_uri": "https://localhost:8080/"
        },
        "execution": {
          "iopub.execute_input": "2025-07-28T13:38:56.125328Z",
          "iopub.status.busy": "2025-07-28T13:38:56.124692Z",
          "iopub.status.idle": "2025-07-28T13:38:56.656775Z",
          "shell.execute_reply": "2025-07-28T13:38:56.655911Z",
          "shell.execute_reply.started": "2025-07-28T13:38:56.125281Z"
        },
        "id": "20vMqyOKiaQG",
        "outputId": "ed1b368d-e0ae-4a8b-f4c5-7dab5b2c2c38",
        "trusted": true
      },
      "outputs": [
        {
          "name": "stdout",
          "output_type": "stream",
          "text": [
            "Accuracy       : 0.9969167523124358\n",
            "Precision      : 0.7142857142857143\n",
            "Recall         : 0.8333333333333334\n",
            "Confusion Matrix:\n",
            " [[965   2]\n",
            " [  1   5]]\n",
            "Model saved as xgb_model.pkl\n"
          ]
        },
        {
          "name": "stderr",
          "output_type": "stream",
          "text": [
            "c:\\Users\\hayaa\\OneDrive\\Desktop\\data sci sum pro\\venv\\Lib\\site-packages\\xgboost\\training.py:183: UserWarning: [17:15:38] WARNING: C:\\actions-runner\\_work\\xgboost\\xgboost\\src\\learner.cc:738: \n",
            "Parameters: { \"use_label_encoder\" } are not used.\n",
            "\n",
            "  bst.update(dtrain, iteration=i, fobj=obj)\n"
          ]
        }
      ],
      "source": [
        "from xgboost import XGBClassifier\n",
        "from sklearn.metrics import accuracy_score, precision_score, recall_score, confusion_matrix\n",
        "import joblib\n",
        "\n",
        "# Initialize model with some overfitting control\n",
        "xgb = XGBClassifier(\n",
        "    use_label_encoder=False,\n",
        "    eval_metric='logloss',\n",
        "    scale_pos_weight=class_weight_ratio,  # handle imbalance\n",
        "    n_estimators=150,\n",
        "    max_depth=5,\n",
        "    learning_rate=0.1,\n",
        "    random_state=42\n",
        ")\n",
        "\n",
        "# Train the model\n",
        "xgb.fit(X_train, y_train)\n",
        "\n",
        "# Predict\n",
        "y_pred = xgb.predict(X_test)\n",
        "\n",
        "# Evaluate\n",
        "print(\"Accuracy       :\", accuracy_score(y_test, y_pred))\n",
        "print(\"Precision      :\", precision_score(y_test, y_pred))\n",
        "print(\"Recall         :\", recall_score(y_test, y_pred))\n",
        "print(\"Confusion Matrix:\\n\", confusion_matrix(y_test, y_pred))\n",
        "\n",
        "# Save model for Streamlit\n",
        "joblib.dump(xgb, \"xgb_model.pkl\")\n",
        "print(\"Model saved as xgb_model.pkl\")"
      ]
    },
    {
      "cell_type": "code",
      "execution_count": null,
      "metadata": {
        "execution": {
          "iopub.execute_input": "2025-07-28T13:39:57.252414Z",
          "iopub.status.busy": "2025-07-28T13:39:57.252095Z",
          "iopub.status.idle": "2025-07-28T13:40:02.928563Z",
          "shell.execute_reply": "2025-07-28T13:40:02.927624Z",
          "shell.execute_reply.started": "2025-07-28T13:39:57.252392Z"
        },
        "id": "NkN-0r8yiaQH",
        "trusted": true
      },
      "outputs": [
        {
          "name": "stderr",
          "output_type": "stream",
          "text": [
            "c:\\Users\\hayaa\\OneDrive\\Desktop\\data sci sum pro\\venv\\Lib\\site-packages\\xgboost\\training.py:183: UserWarning: [17:15:39] WARNING: C:\\actions-runner\\_work\\xgboost\\xgboost\\src\\learner.cc:738: \n",
            "Parameters: { \"use_label_encoder\" } are not used.\n",
            "\n",
            "  bst.update(dtrain, iteration=i, fobj=obj)\n"
          ]
        },
        {
          "name": "stdout",
          "output_type": "stream",
          "text": [
            "Model Performance Comparison:\n"
          ]
        },
        {
          "data": {
            "text/html": [
              "<div>\n",
              "<style scoped>\n",
              "    .dataframe tbody tr th:only-of-type {\n",
              "        vertical-align: middle;\n",
              "    }\n",
              "\n",
              "    .dataframe tbody tr th {\n",
              "        vertical-align: top;\n",
              "    }\n",
              "\n",
              "    .dataframe thead th {\n",
              "        text-align: right;\n",
              "    }\n",
              "</style>\n",
              "<table border=\"1\" class=\"dataframe\">\n",
              "  <thead>\n",
              "    <tr style=\"text-align: right;\">\n",
              "      <th></th>\n",
              "      <th>Accuracy</th>\n",
              "      <th>Precision</th>\n",
              "      <th>Recall</th>\n",
              "      <th>F1-Score</th>\n",
              "      <th>ROC-AUC</th>\n",
              "    </tr>\n",
              "  </thead>\n",
              "  <tbody>\n",
              "    <tr>\n",
              "      <th>Logistic Regression</th>\n",
              "      <td>0.886948</td>\n",
              "      <td>0.035714</td>\n",
              "      <td>0.666667</td>\n",
              "      <td>0.067797</td>\n",
              "      <td>0.907618</td>\n",
              "    </tr>\n",
              "    <tr>\n",
              "      <th>Naive Bayes</th>\n",
              "      <td>0.988695</td>\n",
              "      <td>0.142857</td>\n",
              "      <td>0.166667</td>\n",
              "      <td>0.153846</td>\n",
              "      <td>0.927611</td>\n",
              "    </tr>\n",
              "    <tr>\n",
              "      <th>XGBoost</th>\n",
              "      <td>0.996917</td>\n",
              "      <td>0.714286</td>\n",
              "      <td>0.833333</td>\n",
              "      <td>0.769231</td>\n",
              "      <td>0.987763</td>\n",
              "    </tr>\n",
              "  </tbody>\n",
              "</table>\n",
              "</div>"
            ],
            "text/plain": [
              "                     Accuracy  Precision    Recall  F1-Score   ROC-AUC\n",
              "Logistic Regression  0.886948   0.035714  0.666667  0.067797  0.907618\n",
              "Naive Bayes          0.988695   0.142857  0.166667  0.153846  0.927611\n",
              "XGBoost              0.996917   0.714286  0.833333  0.769231  0.987763"
            ]
          },
          "metadata": {},
          "output_type": "display_data"
        }
      ],
      "source": [
        "from sklearn.linear_model import LogisticRegression\n",
        "from sklearn.naive_bayes import GaussianNB\n",
        "from xgboost import XGBClassifier\n",
        "from sklearn.metrics import accuracy_score, precision_score, recall_score, f1_score, roc_auc_score\n",
        "\n",
        "# Dictionary to store results\n",
        "results = {}\n",
        "\n",
        "# Logistic Regression\n",
        "lr = LogisticRegression(class_weight='balanced', max_iter=1000, random_state=42)\n",
        "lr.fit(X_train_scaled, y_train)\n",
        "y_pred_lr = lr.predict(X_test_scaled)\n",
        "results['Logistic Regression'] = {\n",
        "    'Accuracy': accuracy_score(y_test, y_pred_lr),\n",
        "    'Precision': precision_score(y_test, y_pred_lr),\n",
        "    'Recall': recall_score(y_test, y_pred_lr),\n",
        "    'F1-Score': f1_score(y_test, y_pred_lr),\n",
        "    'ROC-AUC': roc_auc_score(y_test, lr.predict_proba(X_test_scaled)[:,1])\n",
        "}\n",
        "\n",
        "# Naive Bayes\n",
        "nb = GaussianNB()\n",
        "nb.fit(X_train_scaled, y_train)\n",
        "y_pred_nb = nb.predict(X_test_scaled)\n",
        "results['Naive Bayes'] = {\n",
        "    'Accuracy': accuracy_score(y_test, y_pred_nb),\n",
        "    'Precision': precision_score(y_test, y_pred_nb),\n",
        "    'Recall': recall_score(y_test, y_pred_nb),\n",
        "    'F1-Score': f1_score(y_test, y_pred_nb),\n",
        "    'ROC-AUC': roc_auc_score(y_test, nb.predict_proba(X_test_scaled)[:,1])\n",
        "}\n",
        "\n",
        "# XGBoost\n",
        "xgb = XGBClassifier(\n",
        "    use_label_encoder=False, \n",
        "    eval_metric='logloss',\n",
        "    scale_pos_weight=class_weight_ratio,\n",
        "    n_estimators=150,\n",
        "    max_depth=5,\n",
        "    learning_rate=0.1,\n",
        "    random_state=42\n",
        ")\n",
        "xgb.fit(X_train, y_train)\n",
        "y_pred_xgb = xgb.predict(X_test)\n",
        "results['XGBoost'] = {\n",
        "    'Accuracy': accuracy_score(y_test, y_pred_xgb),\n",
        "    'Precision': precision_score(y_test, y_pred_xgb),\n",
        "    'Recall': recall_score(y_test, y_pred_xgb),\n",
        "    'F1-Score': f1_score(y_test, y_pred_xgb),\n",
        "    'ROC-AUC': roc_auc_score(y_test, xgb.predict_proba(X_test)[:,1])\n",
        "}\n",
        "\n",
        "# Show results in a DataFrame\n",
        "results_df = pd.DataFrame(results).T\n",
        "print(\"Model Performance Comparison:\")\n",
        "display(results_df)\n"
      ]
    },
    {
      "cell_type": "code",
      "execution_count": null,
      "metadata": {
        "execution": {
          "iopub.execute_input": "2025-07-28T14:11:44.530519Z",
          "iopub.status.busy": "2025-07-28T14:11:44.530244Z",
          "iopub.status.idle": "2025-07-28T14:11:46.628804Z",
          "shell.execute_reply": "2025-07-28T14:11:46.628026Z",
          "shell.execute_reply.started": "2025-07-28T14:11:44.530501Z"
        },
        "id": "tlC37YxGiaQH",
        "trusted": true
      },
      "outputs": [
        {
          "name": "stdout",
          "output_type": "stream",
          "text": [
            "Model Performance Comparison:\n"
          ]
        },
        {
          "name": "stderr",
          "output_type": "stream",
          "text": [
            "c:\\Users\\hayaa\\OneDrive\\Desktop\\data sci sum pro\\venv\\Lib\\site-packages\\xgboost\\training.py:183: UserWarning: [17:15:39] WARNING: C:\\actions-runner\\_work\\xgboost\\xgboost\\src\\learner.cc:738: \n",
            "Parameters: { \"use_label_encoder\" } are not used.\n",
            "\n",
            "  bst.update(dtrain, iteration=i, fobj=obj)\n"
          ]
        },
        {
          "data": {
            "text/html": [
              "<div>\n",
              "<style scoped>\n",
              "    .dataframe tbody tr th:only-of-type {\n",
              "        vertical-align: middle;\n",
              "    }\n",
              "\n",
              "    .dataframe tbody tr th {\n",
              "        vertical-align: top;\n",
              "    }\n",
              "\n",
              "    .dataframe thead th {\n",
              "        text-align: right;\n",
              "    }\n",
              "</style>\n",
              "<table border=\"1\" class=\"dataframe\">\n",
              "  <thead>\n",
              "    <tr style=\"text-align: right;\">\n",
              "      <th></th>\n",
              "      <th>Accuracy</th>\n",
              "      <th>Precision</th>\n",
              "      <th>Recall</th>\n",
              "      <th>F1-Score</th>\n",
              "      <th>ROC-AUC</th>\n",
              "    </tr>\n",
              "  </thead>\n",
              "  <tbody>\n",
              "    <tr>\n",
              "      <th>Logistic Regression</th>\n",
              "      <td>0.886948</td>\n",
              "      <td>0.035714</td>\n",
              "      <td>0.666667</td>\n",
              "      <td>0.067797</td>\n",
              "      <td>0.907618</td>\n",
              "    </tr>\n",
              "    <tr>\n",
              "      <th>Naive Bayes</th>\n",
              "      <td>0.988695</td>\n",
              "      <td>0.142857</td>\n",
              "      <td>0.166667</td>\n",
              "      <td>0.153846</td>\n",
              "      <td>0.927611</td>\n",
              "    </tr>\n",
              "    <tr>\n",
              "      <th>XGBoost</th>\n",
              "      <td>0.996917</td>\n",
              "      <td>0.714286</td>\n",
              "      <td>0.833333</td>\n",
              "      <td>0.769231</td>\n",
              "      <td>0.987763</td>\n",
              "    </tr>\n",
              "  </tbody>\n",
              "</table>\n",
              "</div>"
            ],
            "text/plain": [
              "                     Accuracy  Precision    Recall  F1-Score   ROC-AUC\n",
              "Logistic Regression  0.886948   0.035714  0.666667  0.067797  0.907618\n",
              "Naive Bayes          0.988695   0.142857  0.166667  0.153846  0.927611\n",
              "XGBoost              0.996917   0.714286  0.833333  0.769231  0.987763"
            ]
          },
          "metadata": {},
          "output_type": "display_data"
        },
        {
          "name": "stdout",
          "output_type": "stream",
          "text": [
            "\n",
            "Prediction on New Transaction:\n",
            "Logistic Regression: 0 | Prob: 0.0032\n",
            "Naive Bayes        : 0 | Prob: 0.0\n",
            "XGBoost            : 0 | Prob: 1e-04\n"
          ]
        }
      ],
      "source": [
        "from sklearn.linear_model import LogisticRegression\n",
        "from sklearn.naive_bayes import GaussianNB\n",
        "from xgboost import XGBClassifier\n",
        "from sklearn.metrics import accuracy_score, precision_score, recall_score, f1_score, roc_auc_score\n",
        "\n",
        "# -------------------------\n",
        "# Train & Evaluate Models\n",
        "# -------------------------\n",
        "results = {}\n",
        "\n",
        "# Logistic Regression\n",
        "lr = LogisticRegression(class_weight='balanced', max_iter=1000, random_state=42)\n",
        "lr.fit(X_train_scaled, y_train)\n",
        "y_pred_lr = lr.predict(X_test_scaled)\n",
        "results['Logistic Regression'] = {\n",
        "    'Accuracy': accuracy_score(y_test, y_pred_lr),\n",
        "    'Precision': precision_score(y_test, y_pred_lr),\n",
        "    'Recall': recall_score(y_test, y_pred_lr),\n",
        "    'F1-Score': f1_score(y_test, y_pred_lr),\n",
        "    'ROC-AUC': roc_auc_score(y_test, lr.predict_proba(X_test_scaled)[:,1])\n",
        "}\n",
        "\n",
        "# Naive Bayes\n",
        "nb = GaussianNB()\n",
        "nb.fit(X_train_scaled, y_train)\n",
        "y_pred_nb = nb.predict(X_test_scaled)\n",
        "results['Naive Bayes'] = {\n",
        "    'Accuracy': accuracy_score(y_test, y_pred_nb),\n",
        "    'Precision': precision_score(y_test, y_pred_nb),\n",
        "    'Recall': recall_score(y_test, y_pred_nb),\n",
        "    'F1-Score': f1_score(y_test, y_pred_nb),\n",
        "    'ROC-AUC': roc_auc_score(y_test, nb.predict_proba(X_test_scaled)[:,1])\n",
        "}\n",
        "\n",
        "# XGBoost\n",
        "xgb = XGBClassifier(\n",
        "    use_label_encoder=False, \n",
        "    eval_metric='logloss',\n",
        "    scale_pos_weight=class_weight_ratio,\n",
        "    n_estimators=150,\n",
        "    max_depth=5,\n",
        "    learning_rate=0.1,\n",
        "    random_state=42\n",
        ")\n",
        "xgb.fit(X_train, y_train)  # XGBoost works on unscaled data\n",
        "y_pred_xgb = xgb.predict(X_test)\n",
        "results['XGBoost'] = {\n",
        "    'Accuracy': accuracy_score(y_test, y_pred_xgb),\n",
        "    'Precision': precision_score(y_test, y_pred_xgb),\n",
        "    'Recall': recall_score(y_test, y_pred_xgb),\n",
        "    'F1-Score': f1_score(y_test, y_pred_xgb),\n",
        "    'ROC-AUC': roc_auc_score(y_test, xgb.predict_proba(X_test)[:,1])\n",
        "}\n",
        "\n",
        "# Show comparison table\n",
        "results_df = pd.DataFrame(results).T\n",
        "print(\"Model Performance Comparison:\")\n",
        "display(results_df)\n",
        "\n",
        "# -------------------------\n",
        "# Predict on New Raw Input\n",
        "# -------------------------\n",
        "\n",
        "# Example raw input (MAKE SURE column names match X_train.columns)\n",
        "new_input = pd.DataFrame([{\n",
        "    \"merchant\": \"M123\",\n",
        "    \"category\": \"shopping_pos\",\n",
        "    \"amt\": 120.50,\n",
        "    \"gender\": \"F\",\n",
        "    \"city_pop\": 54000,\n",
        "    \"job\": \"Engineer\",\n",
        "    \"age\": 29,\n",
        "    \"age_group\": \"Young Adult\",\n",
        "    \"day\": 15,\n",
        "    \"month\": 8,\n",
        "    \"year\": 2023,\n",
        "    \"hour\": 14,\n",
        "    \"minute\": 35,\n",
        "    \"distance_km\": 12.4,       # ⚡ must match training column name\n",
        "    \"distance_group\": \"Near\"\n",
        "}])\n",
        "\n",
        "# --- Validate Columns ---\n",
        "missing_cols = [col for col in X_train.columns if col not in new_input.columns]\n",
        "extra_cols = [col for col in new_input.columns if col not in X_train.columns]\n",
        "\n",
        "if missing_cols:\n",
        "    print(\"⚠️ Missing columns in input:\", missing_cols)\n",
        "if extra_cols:\n",
        "    print(\"⚠️ Extra columns not used in training:\", extra_cols)\n",
        "\n",
        "# Reorder input columns to match training\n",
        "new_input = new_input.reindex(columns=X_train.columns, fill_value=0)\n",
        "\n",
        "# --- Preprocessing ---\n",
        "# Encode categorical\n",
        "new_input_enc = new_input.copy()\n",
        "new_input_enc[cat_cols] = encoder.transform(new_input_enc[cat_cols])\n",
        "\n",
        "# Scale numeric\n",
        "new_input_scaled = new_input_enc.copy()\n",
        "new_input_scaled[num_cols] = scaler.transform(new_input_enc[num_cols])\n",
        "\n",
        "# --- Predictions ---\n",
        "print(\"\\nPrediction on New Transaction:\")\n",
        "print(\"Logistic Regression:\", lr.predict(new_input_scaled)[0], \"| Prob:\", round(lr.predict_proba(new_input_scaled)[0][1], 4))\n",
        "print(\"Naive Bayes        :\", nb.predict(new_input_scaled)[0], \"| Prob:\", round(nb.predict_proba(new_input_scaled)[0][1], 4))\n",
        "print(\"XGBoost            :\", xgb.predict(new_input_enc)[0], \"| Prob:\", round(xgb.predict_proba(new_input_enc)[0][1], 4))\n"
      ]
    },
    {
      "cell_type": "code",
      "execution_count": null,
      "metadata": {},
      "outputs": [],
      "source": []
    },
    {
      "cell_type": "code",
      "execution_count": null,
      "metadata": {
        "colab": {
          "base_uri": "https://localhost:8080/",
          "height": 373
        },
        "execution": {
          "iopub.execute_input": "2025-07-28T14:23:50.035688Z",
          "iopub.status.busy": "2025-07-28T14:23:50.035283Z",
          "iopub.status.idle": "2025-07-28T14:24:19.299833Z",
          "shell.execute_reply": "2025-07-28T14:24:19.299054Z",
          "shell.execute_reply.started": "2025-07-28T14:23:50.035661Z"
        },
        "id": "5p9E_EhMiaQH",
        "outputId": "5c4de289-4691-4959-9a8f-a4715ad15772",
        "trusted": true
      },
      "outputs": [],
      "source": []
    },
    {
      "cell_type": "code",
      "execution_count": null,
      "metadata": {
        "execution": {
          "iopub.execute_input": "2025-07-28T14:46:51.104962Z",
          "iopub.status.busy": "2025-07-28T14:46:51.10463Z",
          "iopub.status.idle": "2025-07-28T14:46:51.110167Z",
          "shell.execute_reply": "2025-07-28T14:46:51.108766Z",
          "shell.execute_reply.started": "2025-07-28T14:46:51.104938Z"
        },
        "id": "3KYFrX1JiaQJ",
        "trusted": true
      },
      "outputs": [],
      "source": []
    }
  ],
  "metadata": {
    "colab": {
      "provenance": []
    },
    "kaggle": {
      "accelerator": "none",
      "dataSources": [
        {
          "datasetId": 817870,
          "sourceId": 1399887,
          "sourceType": "datasetVersion"
        }
      ],
      "dockerImageVersionId": 31089,
      "isGpuEnabled": false,
      "isInternetEnabled": true,
      "language": "python",
      "sourceType": "notebook"
    },
    "kernelspec": {
      "display_name": "venv",
      "language": "python",
      "name": "python3"
    },
    "language_info": {
      "codemirror_mode": {
        "name": "ipython",
        "version": 3
      },
      "file_extension": ".py",
      "mimetype": "text/x-python",
      "name": "python",
      "nbconvert_exporter": "python",
      "pygments_lexer": "ipython3",
      "version": "3.12.6"
    }
  },
  "nbformat": 4,
  "nbformat_minor": 0
}
